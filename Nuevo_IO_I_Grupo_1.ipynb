{
  "nbformat": 4,
  "nbformat_minor": 0,
  "metadata": {
    "colab": {
      "provenance": [],
      "toc_visible": true,
      "authorship_tag": "ABX9TyMlSbGZwq6Sgd04jSxhXsMX",
      "include_colab_link": true
    },
    "kernelspec": {
      "name": "python3",
      "display_name": "Python 3"
    },
    "language_info": {
      "name": "python"
    }
  },
  "cells": [
    {
      "cell_type": "markdown",
      "metadata": {
        "id": "view-in-github",
        "colab_type": "text"
      },
      "source": [
        "<a href=\"https://colab.research.google.com/github/deespanaj/Ejemplo11/blob/main/Nuevo_IO_I_Grupo_1.ipynb\" target=\"_parent\"><img src=\"https://colab.research.google.com/assets/colab-badge.svg\" alt=\"Open In Colab\"/></a>"
      ]
    },
    {
      "cell_type": "code",
      "execution_count": null,
      "metadata": {
        "id": "scBHlt_gxhpq"
      },
      "outputs": [],
      "source": []
    },
    {
      "cell_type": "markdown",
      "source": [
        "# Esto es un titulo"
      ],
      "metadata": {
        "id": "0-y3w-bSyNMA"
      }
    },
    {
      "cell_type": "markdown",
      "source": [
        "## Esto es un subtitulo"
      ],
      "metadata": {
        "id": "u529BZ8EyZTw"
      }
    },
    {
      "cell_type": "code",
      "source": [
        "print(\"Hola, mundo\")\n"
      ],
      "metadata": {
        "colab": {
          "base_uri": "https://localhost:8080/"
        },
        "id": "XtJI2eeFyvEb",
        "outputId": "8a2b5cf9-0bd9-454f-9f59-317df441de04"
      },
      "execution_count": 1,
      "outputs": [
        {
          "output_type": "stream",
          "name": "stdout",
          "text": [
            "Hola, mundo\n"
          ]
        }
      ]
    }
  ]
}